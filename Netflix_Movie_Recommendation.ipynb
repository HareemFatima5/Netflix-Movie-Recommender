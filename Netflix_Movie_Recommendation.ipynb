{
  "cells": [
    {
      "cell_type": "markdown",
      "source": [
        "### **Installing the Library**"
      ],
      "metadata": {
        "id": "vmQhItAY-TKq"
      }
    },
    {
      "cell_type": "code",
      "source": [
        "!pip install streamlit pyngrok --quiet\n"
      ],
      "metadata": {
        "colab": {
          "base_uri": "https://localhost:8080/"
        },
        "id": "2cpFQpbAVS2Z",
        "outputId": "94abc81e-5ed4-42bd-f4d5-7922cd9567cf"
      },
      "execution_count": null,
      "outputs": [
        {
          "output_type": "stream",
          "name": "stdout",
          "text": [
            "\u001b[2K     \u001b[90m━━━━━━━━━━━━━━━━━━━━━━━━━━━━━━━━━━━━━━━━\u001b[0m \u001b[32m44.3/44.3 kB\u001b[0m \u001b[31m1.9 MB/s\u001b[0m eta \u001b[36m0:00:00\u001b[0m\n",
            "\u001b[2K   \u001b[90m━━━━━━━━━━━━━━━━━━━━━━━━━━━━━━━━━━━━━━━━\u001b[0m \u001b[32m9.9/9.9 MB\u001b[0m \u001b[31m67.5 MB/s\u001b[0m eta \u001b[36m0:00:00\u001b[0m\n",
            "\u001b[2K   \u001b[90m━━━━━━━━━━━━━━━━━━━━━━━━━━━━━━━━━━━━━━━━\u001b[0m \u001b[32m6.9/6.9 MB\u001b[0m \u001b[31m82.8 MB/s\u001b[0m eta \u001b[36m0:00:00\u001b[0m\n",
            "\u001b[2K   \u001b[90m━━━━━━━━━━━━━━━━━━━━━━━━━━━━━━━━━━━━━━━━\u001b[0m \u001b[32m79.1/79.1 kB\u001b[0m \u001b[31m5.0 MB/s\u001b[0m eta \u001b[36m0:00:00\u001b[0m\n",
            "\u001b[?25h"
          ]
        }
      ]
    },
    {
      "cell_type": "markdown",
      "source": [
        "### **App.py**"
      ],
      "metadata": {
        "id": "SxJVG1hJBPQS"
      }
    },
    {
      "cell_type": "code",
      "source": [
        "%%writefile app.py\n",
        "import streamlit as st\n",
        "import pandas as pd\n",
        "from sklearn.feature_extraction.text import TfidfVectorizer\n",
        "from sklearn.metrics.pairwise import cosine_similarity\n",
        "import time\n",
        "import numpy as np\n",
        "\n",
        "st.markdown(\"\"\"\n",
        "    <style>\n",
        "        html, body, [class*=\"css\"] {\n",
        "            background-color: #141414 !important;\n",
        "            color: #ffffff !important;\n",
        "        }\n",
        "\n",
        "        .stTextInput input {\n",
        "           background-color: #1f1f1f;\n",
        "           color: white;\n",
        "           border: 1px solid #e50914;\n",
        "           border-radius: 10px;\n",
        "           padding: 8px;\n",
        "        }\n",
        "\n",
        "        .stButton>button {\n",
        "            background-color: #e50914;\n",
        "            color: white;\n",
        "            border: none;\n",
        "            border-radius: 25px;\n",
        "            padding: 10px 24px;\n",
        "            font-weight: bold;\n",
        "        }\n",
        "\n",
        "        .stButton>button:hover {\n",
        "            background-color: #f40612;\n",
        "            transform: scale(1.05);\n",
        "            transition: all 0.3s ease;\n",
        "        }\n",
        "\n",
        "        .recommendation-card {\n",
        "            background: #1f1f1f;\n",
        "            border-radius: 10px;\n",
        "            padding: 20px;\n",
        "            margin: 10px 0;\n",
        "            box-shadow: 0 4px 12px rgba(0,0,0,0.4);\n",
        "            transition: all 0.3s ease;\n",
        "        }\n",
        "\n",
        "        .recommendation-card:hover {\n",
        "            transform: translateY(-5px);\n",
        "            box-shadow: 0 8px 16px rgba(229, 9, 20, 0.3);\n",
        "        }\n",
        "\n",
        "        .title {\n",
        "            font-size: 2.8rem;\n",
        "            text-align: center;\n",
        "            margin-bottom: 0.5rem;\n",
        "            color: #e50914;\n",
        "        }\n",
        "\n",
        "        .subtitle {\n",
        "            text-align: center;\n",
        "            margin-bottom: 2rem;\n",
        "            font-size: 1.2rem;\n",
        "            color: #cccccc;\n",
        "        }\n",
        "\n",
        "        .more-info-button {\n",
        "            background-color: #e50914;\n",
        "            color: white;\n",
        "            border: none;\n",
        "            border-radius: 5px;\n",
        "            padding: 8px 16px;\n",
        "            font-weight: bold;\n",
        "            text-decoration: none;\n",
        "            display: inline-block;\n",
        "            margin-top: 10px;\n",
        "        }\n",
        "\n",
        "        .more-info-button:hover {\n",
        "            background-color: #f40612;\n",
        "            transform: scale(1.05);\n",
        "        }\n",
        "    </style>\n",
        "\"\"\", unsafe_allow_html=True)\n",
        "\n",
        "# Load Data\n",
        "@st.cache_data\n",
        "def load_data():\n",
        "    df = pd.read_csv(\"NetflixDataset.csv\", encoding=\"ISO-8859-1\")\n",
        "    df = df[['Title', 'Genre', 'Tags', 'Summary', 'IMDb Score', 'Image']]\n",
        "    df.fillna('', inplace=True)\n",
        "    df['Combined'] = df['Genre'] + ' ' + df['Tags'] + ' ' + df['Summary']\n",
        "    df['Title_lower'] = df['Title'].str.lower()\n",
        "    return df\n",
        "\n",
        "df = load_data()\n",
        "\n",
        "# Compute Similarity Matrix\n",
        "@st.cache_data\n",
        "def compute_similarity(data):\n",
        "    tfidf = TfidfVectorizer(stop_words='english')\n",
        "    tfidf_matrix = tfidf.fit_transform(data['Combined'])\n",
        "    similarity = cosine_similarity(tfidf_matrix, tfidf_matrix)\n",
        "    title_index = pd.Series(data.index, index=data['Title_lower'])\n",
        "    return similarity, title_index\n",
        "\n",
        "cosine_sim, title_to_index = compute_similarity(df)\n",
        "\n",
        "# Recommend Function\n",
        "def recommend(title, num_results=5):\n",
        "    title = title.lower()\n",
        "    if title not in title_to_index:\n",
        "        return pd.DataFrame()\n",
        "    idx = title_to_index[title]\n",
        "    sim_scores = list(enumerate(cosine_sim[idx]))\n",
        "\n",
        "    # Handle both array and scalar cases\n",
        "    processed_scores = []\n",
        "    for i, score in sim_scores:\n",
        "        if hasattr(score, '__len__'):\n",
        "            processed_scores.append((i, float(score[0])))\n",
        "        else:\n",
        "            processed_scores.append((i, float(score)))\n",
        "\n",
        "    processed_scores = sorted(processed_scores, key=lambda x: x[1], reverse=True)\n",
        "    top_indices = [i[0] for i in processed_scores[1:num_results+1]]\n",
        "    return df.iloc[top_indices]\n",
        "\n",
        "# App Header\n",
        "st.markdown('<h1 class=\"title\">🎬 Netflix Movie Recommender</h1>', unsafe_allow_html=True)\n",
        "st.markdown('<p class=\"subtitle\">🧠 Discover your next binge-worthy obsession 📺</p>', unsafe_allow_html=True)\n",
        "\n",
        "# Input Section\n",
        "input_title = st.text_input(\"🔍 Search for a movie or series:\", \"\", key=\"search_input\")\n",
        "search_btn = st.button(\"Find Recommendations\", key=\"search_btn\")\n",
        "\n",
        "# Recommendations\n",
        "if input_title and search_btn:\n",
        "    with st.spinner('🔎 Searching the Netflix universe...'):\n",
        "        time.sleep(1)\n",
        "\n",
        "    recommendations = recommend(input_title, 5)\n",
        "\n",
        "    if not recommendations.empty:\n",
        "        original_title = input_title.title()\n",
        "        st.success(f\"We found {len(recommendations)} perfect matches for **{original_title}**\")\n",
        "\n",
        "        for idx, row in recommendations.iterrows():\n",
        "            google_query = row['Title'].replace(' ', '+') + \"+Netflix\"\n",
        "            google_link = f\"https://www.google.com/search?q={google_query}\"\n",
        "\n",
        "            st.markdown(\n",
        "                f\"\"\"\n",
        "                <div class=\"recommendation-card\">\n",
        "                    <div style=\"display: flex; gap: 20px;\">\n",
        "                        <div>\n",
        "                            <img src=\"{row['Image'] if row['Image'] else 'https://via.placeholder.com/150x225?text=No+Image'}\" width=\"150\" style=\"border-radius: 5px;\">\n",
        "                        </div>\n",
        "                        <div style=\"flex: 1;\">\n",
        "                            <h3 style=\"color:white;\">🎬 {row['Title']}</h3>\n",
        "                            {\"<p style='color:#fff;'>⭐ <strong>IMDb Score:</strong> \" + str(row['IMDb Score']) + \"/10</p>\" if row['IMDb Score'] else \"\"}\n",
        "                            <p style=\"color:#ccc;\"><strong>📌 Genre:</strong> {row['Genre']}</p>\n",
        "                            <p style=\"color:#aaa;\"><strong>📝 Summary:</strong> {row['Summary'][:250]}...</p>\n",
        "                            <a href=\"{google_link}\" target=\"_blank\" class=\"more-info-button\">More Info</a>\n",
        "                        </div>\n",
        "                    </div>\n",
        "                </div>\n",
        "                \"\"\",\n",
        "                unsafe_allow_html=True\n",
        "            )\n",
        "    else:\n",
        "        st.error(\"🚫 Oops! We couldn't find that title. Try something like 'Stranger Things' or 'The Witcher'\")\n",
        "\n",
        "# Footer\n",
        "st.markdown(\"---\")\n",
        "st.markdown(\"\"\"\n",
        "    <div style=\"text-align: center; padding: 1rem; color: #888;\">\n",
        "        <p>Made with ❤️ using Streamlit | Data from Netflix</p>\n",
        "        <p>🎥 Keep Watching, Keep Discovering 🎥</p>\n",
        "    </div>\n",
        "\"\"\", unsafe_allow_html=True)"
      ],
      "metadata": {
        "colab": {
          "base_uri": "https://localhost:8080/"
        },
        "id": "y6jZC2F0zSgc",
        "outputId": "e7bb58ec-1af4-4ea8-d79c-04ba62785fd2"
      },
      "execution_count": null,
      "outputs": [
        {
          "output_type": "stream",
          "name": "stdout",
          "text": [
            "Writing app.py\n"
          ]
        }
      ]
    },
    {
      "cell_type": "code",
      "source": [
        "from pyngrok import ngrok\n",
        "import os\n",
        "\n",
        "ngrok.set_auth_token(\"\")\n",
        "\n",
        "# Kill any previous tunnels\n",
        "ngrok.kill()\n",
        "\n",
        "# Running streamlit app in background\n",
        "os.system(\"streamlit run app.py &\")\n",
        "\n",
        "# Creating a public tunnel\n",
        "public_url = ngrok.connect(8501, \"http\")\n",
        "print(\"Public URL:\", public_url)"
      ],
      "metadata": {
        "colab": {
          "base_uri": "https://localhost:8080/"
        },
        "id": "VOzWEFonWuY2",
        "outputId": "0ae6f9c8-6158-417a-a380-0228bb91517e"
      },
      "execution_count": null,
      "outputs": [
        {
          "output_type": "stream",
          "name": "stdout",
          "text": [
            "Public URL: NgrokTunnel: \"https://254b8e72bd20.ngrok-free.app\" -> \"http://localhost:8501\"\n"
          ]
        }
      ]
    }
  ],
  "metadata": {
    "colab": {
      "provenance": []
    },
    "kernelspec": {
      "display_name": "Python 3",
      "name": "python3"
    },
    "language_info": {
      "name": "python"
    }
  },
  "nbformat": 4,
  "nbformat_minor": 0
}